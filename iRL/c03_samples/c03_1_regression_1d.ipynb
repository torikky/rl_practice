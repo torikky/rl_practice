{
 "cells": [
  {
   "cell_type": "markdown",
   "metadata": {},
   "source": [
    "# 1次元入力の線形回帰モデル"
   ]
  },
  {
   "cell_type": "code",
   "execution_count": null,
   "metadata": {},
   "outputs": [
    {
     "ename": "",
     "evalue": "",
     "output_type": "error",
     "traceback": [
      "\u001b[1;31mカーネルを起動できませんでした。 \n",
      "\u001b[1;31m'_xsrf' argument missing from POST. \n",
      "\u001b[1;31m詳細については、Jupyter [ログ] (command:jupyter.viewOutput) を参照してください。"
     ]
    }
   ],
   "source": [
    "# list 3-1-(1) データを作成する\n",
    "\n",
    "%matplotlib inline\n",
    "import numpy as np\n",
    "import matplotlib.pyplot as plt\n",
    "\n",
    "# 小数点以下の表示桁数を3桁にする (A)\n",
    "np.set_printoptions(precision=3, suppress=True)\n",
    "plt.rcParams['font.size'] = 14              # フォントサイズを設定 (B)\n",
    "plt.rcParams['figure.figsize'] = (7, 4)     # 図のサイズ指定 (C)\n",
    "\n",
    "n = 30                              # データ数\n",
    "noise = 5                           # ノイズの大きさ\n",
    "np.random.seed(3)                   # 乱数のseedを指定\n",
    "xs = np.random.rand(n) * 30         # xs(気温)を一様乱数で決める\n",
    "ts = (0.1 * xs) ** 4 + 1 * xs + 50 \\\n",
    "    + np.random.randn(n) * noise    # ts(売り上げ)を決める (D)\n",
    "x_range = (0, 30)                   # 表示用のxの範囲\n",
    "t_range = (30, 140)                 # 表示用のtの範囲\n",
    "\n",
    "print('xs', xs)\n",
    "print('')\n",
    "print('ts', ts)\n"
   ]
  },
  {
   "cell_type": "code",
   "execution_count": null,
   "metadata": {},
   "outputs": [
    {
     "ename": "",
     "evalue": "",
     "output_type": "error",
     "traceback": [
      "\u001b[1;31mカーネルを起動できませんでした。 \n",
      "\u001b[1;31m'_xsrf' argument missing from POST. \n",
      "\u001b[1;31m詳細については、Jupyter [ログ] (command:jupyter.viewOutput) を参照してください。"
     ]
    }
   ],
   "source": [
    "# list 3-1-(2) データーをプロット表示する\n",
    "\n",
    "plt.scatter(xs, ts, label='data')           # 分布の表示 (A)\n",
    "\n",
    "def plt_setting():                          # グラフの調整の関数定義 (B)\n",
    "    plt.legend()\n",
    "    plt.xlim(x_range)\n",
    "    plt.ylim(t_range)\n",
    "    plt.xlabel('x (temperature)')\n",
    "    plt.ylabel('t (sales)')\n",
    "    plt.grid(axis='both')\n",
    "\n",
    "plt_setting()                               # グラフの調整実行 (C)\n",
    "plt.show()"
   ]
  },
  {
   "cell_type": "code",
   "execution_count": null,
   "metadata": {},
   "outputs": [
    {
     "ename": "",
     "evalue": "",
     "output_type": "error",
     "traceback": [
      "\u001b[1;31mカーネルを起動できませんでした。 \n",
      "\u001b[1;31m'_xsrf' argument missing from POST. \n",
      "\u001b[1;31m詳細については、Jupyter [ログ] (command:jupyter.viewOutput) を参照してください。"
     ]
    }
   ],
   "source": [
    "# list 3-1-(3) 線形回帰モデルを定義する\n",
    "\n",
    "def linear_reg(x, w0, w1):\n",
    "    y = w0 * x + w1\n",
    "    return y\n",
    "\n",
    "print(linear_reg(10, 1, 40))                        # (A)\n",
    "print(linear_reg(np.array([10, 20, 30]), 1, 40))    # (B)"
   ]
  },
  {
   "cell_type": "code",
   "execution_count": null,
   "metadata": {},
   "outputs": [
    {
     "ename": "",
     "evalue": "",
     "output_type": "error",
     "traceback": [
      "\u001b[1;31mカーネルを起動できませんでした。 \n",
      "\u001b[1;31m'_xsrf' argument missing from POST. \n",
      "\u001b[1;31m詳細については、Jupyter [ログ] (command:jupyter.viewOutput) を参照してください。"
     ]
    }
   ],
   "source": [
    "# list 3-1-(4) 線形回帰モデルをグラフ表示する\n",
    "\n",
    "xs_pred = np.linspace(x_range[0], x_range[1], 50)   # (A)\n",
    "ys_pred = linear_reg(xs_pred, w0=1, w1=38)          # (B)\n",
    "\n",
    "plt.scatter(xs, ts, label='data')\n",
    "plt.plot(xs_pred, ys_pred, 'g', label='linear regression')\n",
    "plt_setting()\n",
    "plt.show()"
   ]
  },
  {
   "cell_type": "code",
   "execution_count": null,
   "metadata": {},
   "outputs": [
    {
     "ename": "",
     "evalue": "",
     "output_type": "error",
     "traceback": [
      "\u001b[1;31mカーネルを起動できませんでした。 \n",
      "\u001b[1;31m'_xsrf' argument missing from POST. \n",
      "\u001b[1;31m詳細については、Jupyter [ログ] (command:jupyter.viewOutput) を参照してください。"
     ]
    }
   ],
   "source": [
    "# list 3-1-(5) 線形回帰モデルのMSEを計算する\n",
    "\n",
    "def mse_linear_reg(xs, ts, w0, w1):\n",
    "    ys = linear_reg(xs, w0, w1)             # モデルの予測 (A)\n",
    "    mse = np.mean((ts - ys) ** 2)           # MSEの計算 (B)\n",
    "    return mse \n",
    "\n",
    "mse = mse_linear_reg(xs, ts, w0=1, w1=38)\n",
    "print(f'MSE = {mse:.3f}')"
   ]
  },
  {
   "cell_type": "code",
   "execution_count": null,
   "metadata": {},
   "outputs": [
    {
     "ename": "",
     "evalue": "",
     "output_type": "error",
     "traceback": [
      "\u001b[1;31mカーネルを起動できませんでした。 \n",
      "\u001b[1;31m'_xsrf' argument missing from POST. \n",
      "\u001b[1;31m詳細については、Jupyter [ログ] (command:jupyter.viewOutput) を参照してください。"
     ]
    }
   ],
   "source": [
    "# 図3-5　本書での掲載はなし\n",
    "w0_reso = 6\n",
    "w1_reso = 7\n",
    "w0s = np.linspace(0, 5, w0_reso)        # w0の範囲\n",
    "w1s = np.linspace(0, 60, w1_reso)       # w1の範囲\n",
    "mse = np.zeros((w1_reso, w0_reso))      # MSEを格納する2次元配列\n",
    "for w0 in w0s:\n",
    "    for w1 in w1s:\n",
    "        # MSEの計算\n",
    "        mse = mse_linear_reg(xs, ts, w0, w1)\n",
    "        plt.scatter(w0, w1, color='gray')\n",
    "        plt.text(w0 + 0.05, w1 + 1, '%.1f' % mse, fontsize=12)\n",
    "plt.xticks(w0s)\n",
    "plt.yticks(w1s)\n",
    "plt.ylabel('$w_1$')\n",
    "plt.xlabel('$w_0$')\n",
    "plt.ylim(-5, 68)\n",
    "plt.xlim(-0.2, 5.7)\n",
    "plt.grid(axis='both')\n",
    "plt.show()"
   ]
  },
  {
   "cell_type": "code",
   "execution_count": null,
   "metadata": {},
   "outputs": [
    {
     "ename": "",
     "evalue": "",
     "output_type": "error",
     "traceback": [
      "\u001b[1;31mカーネルを起動できませんでした。 \n",
      "\u001b[1;31m'_xsrf' argument missing from POST. \n",
      "\u001b[1;31m詳細については、Jupyter [ログ] (command:jupyter.viewOutput) を参照してください。"
     ]
    }
   ],
   "source": [
    "# 図3-6　本書での掲載はなし\n",
    "def show_mse_1st():\n",
    "    w0_reso = 50\n",
    "    w1_reso = 50\n",
    "    w0s = np.linspace(0, 5, w0_reso)        # w0の範囲\n",
    "    w1s = np.linspace(0, 60, w1_reso)       # w1の範囲\n",
    "    mses = np.zeros((w1_reso, w0_reso))     # MSEを格納する2次元配列\n",
    "\n",
    "    w0_min = -1\n",
    "    w1_min = -1\n",
    "    mse_min = float('inf')\n",
    "    for i0 in range(w0_reso):\n",
    "        for i1 in range(w1_reso):\n",
    "            # MSEの計算\n",
    "            mse = mse_linear_reg(xs, ts, w0s[i0], w1s[i1])\n",
    "            mses[i1, i0] = mse\n",
    "            if mse < mse_min:\n",
    "                mse_min = mse\n",
    "                w0_min = w0s[i0]\n",
    "                w1_min = w1s[i1]\n",
    "\n",
    "    # MSEが最小となるw0, w1を求める\n",
    "    print(f'グリッドサーチ: w0={w0_min:.3f}, ' \\\n",
    "          + f'w1={w1_min:.3f} のとき最小MSE {mse_min:.3f}')\n",
    "\n",
    "    # ww0s, ww1s = np.meshgrid(w0s, w1s)\n",
    "    cont = plt.contour(                     # 等高線プロット\n",
    "        w0s, w1s, mses, cmap='pink',\n",
    "        levels=[100, 200, 400, 800, 1600, 3200],\n",
    "        )\n",
    "    cont.clabel(fmt='%.0f', fontsize=12)\n",
    "    plt.scatter(w0_min, w1_min, color='r')\n",
    "    plt.ylabel('$w_1$')\n",
    "    plt.xlabel('$w_0$')\n",
    "    plt.grid(axis='both')\n",
    "\n",
    "show_mse_1st()\n"
   ]
  },
  {
   "cell_type": "code",
   "execution_count": null,
   "metadata": {},
   "outputs": [
    {
     "ename": "",
     "evalue": "",
     "output_type": "error",
     "traceback": [
      "\u001b[1;31mカーネルを起動できませんでした。 \n",
      "\u001b[1;31m'_xsrf' argument missing from POST. \n",
      "\u001b[1;31m詳細については、Jupyter [ログ] (command:jupyter.viewOutput) を参照してください。"
     ]
    }
   ],
   "source": [
    "# list 3-1-(6) MSEの等高線表示\n",
    "\n",
    "def show_mse():\n",
    "    w0_reso = 100\n",
    "    w1_reso = 100\n",
    "    w0s = np.linspace(0, 5, w0_reso)         # w0の範囲 (A)\n",
    "    w1s = np.linspace(34, 39, w1_reso)       # w1の範囲 (B)\n",
    "    mses = np.zeros((w1_reso, w0_reso))      # MSEを格納する2次元配列 (C)\n",
    "\n",
    "    for i0 in range(w0_reso):\n",
    "        for i1 in range(w1_reso):\n",
    "            # MSEの計算 (D)\n",
    "            mse = mse_linear_reg(xs, ts, w0s[i0], w1s[i1])\n",
    "            mses[i1, i0] = mse\n",
    "\n",
    "    plt.figure(figsize=(5, 5))\n",
    "    cont = plt.contour(                     # 等高線プロット (E)\n",
    "        w0s, w1s, mses, cmap='pink',\n",
    "        levels=[90, 100, 200, 400, 800, 1600],\n",
    "        )\n",
    "    cont.clabel(fmt='%.0f', fontsize=12)\n",
    "    plt.ylabel('$w_1$')\n",
    "    plt.xlabel('$w_0$')\n",
    "    plt.grid(axis='both')\n",
    "\n",
    "show_mse()\n",
    "plt.show()"
   ]
  },
  {
   "cell_type": "code",
   "execution_count": null,
   "metadata": {},
   "outputs": [
    {
     "ename": "",
     "evalue": "",
     "output_type": "error",
     "traceback": [
      "\u001b[1;31mカーネルを起動できませんでした。 \n",
      "\u001b[1;31m'_xsrf' argument missing from POST. \n",
      "\u001b[1;31m詳細については、Jupyter [ログ] (command:jupyter.viewOutput) を参照してください。"
     ]
    }
   ],
   "source": [
    "# 図3-7右　本書での掲載はなし\n",
    "\n",
    "def show_mse2_surf():\n",
    "    w0_reso = 50\n",
    "    w1_reso = 50\n",
    "    w0s = np.linspace(0, 5, w0_reso)         # w0の範囲\n",
    "    w1s = np.linspace(34, 39, w1_reso)       # w1の範囲\n",
    "    mses = np.zeros((w1_reso, w0_reso))      # MSEを格納する2次元配列\n",
    "\n",
    "    for i0 in range(w0_reso):\n",
    "        for i1 in range(w1_reso):\n",
    "            # MSEの計算\n",
    "            mse = mse_linear_reg(xs, ts, w0s[i0], w1s[i1])\n",
    "            mses[i1, i0] = mse\n",
    "\n",
    "    ww0s, ww1s = np.meshgrid(w0s, w1s)\n",
    "    fig = plt.figure(figsize=(5, 5))\n",
    "    ax = fig.gca(projection='3d')\n",
    "    ax.plot_surface(                         # 3Dグラフ\n",
    "        ww0s, ww1s, mses, cmap='pink',\n",
    "        alpha=0.3,\n",
    "        rstride=5, cstride=5, edgecolor='black',\n",
    "        )\n",
    "    ax.view_init(elev=25, azim=-80)\n",
    "    plt.ylabel('$w_1$')\n",
    "    plt.xlabel('$w_0$')\n",
    "    plt.grid(axis='both')\n",
    "    \n",
    "show_mse2_surf()"
   ]
  },
  {
   "cell_type": "code",
   "execution_count": null,
   "metadata": {},
   "outputs": [
    {
     "ename": "",
     "evalue": "",
     "output_type": "error",
     "traceback": [
      "\u001b[1;31mカーネルを起動できませんでした。 \n",
      "\u001b[1;31m'_xsrf' argument missing from POST. \n",
      "\u001b[1;31m詳細については、Jupyter [ログ] (command:jupyter.viewOutput) を参照してください。"
     ]
    }
   ],
   "source": [
    "# list 3-1-(7) dw0, dw1を求める関数\n",
    "\n",
    "def dw_linear_reg(xs, ts, w0, w1):\n",
    "    ys = w0 * xs + w1\n",
    "    dw0 = -2 * np.mean((ys - ts) * xs)  # 式(3-6)  (A)\n",
    "    dw1 = -2 * np.mean(ys - ts)         # 式(3-7)  (B)\n",
    "    return dw0, dw1\n",
    "\n",
    "dw0, dw1 = dw_linear_reg(xs, ts, 1, 38) # (C)\n",
    "print(f'dw0={dw0:.1f}, dw1={dw1:.1f}')"
   ]
  },
  {
   "cell_type": "code",
   "execution_count": null,
   "metadata": {},
   "outputs": [
    {
     "ename": "",
     "evalue": "",
     "output_type": "error",
     "traceback": [
      "\u001b[1;31mカーネルを起動できませんでした。 \n",
      "\u001b[1;31m'_xsrf' argument missing from POST. \n",
      "\u001b[1;31m詳細については、Jupyter [ログ] (command:jupyter.viewOutput) を参照してください。"
     ]
    }
   ],
   "source": [
    "# list 3-1-(8) 勾配法\n",
    "\n",
    "alpha = 0.001   # 学習率 (A)\n",
    "init_w0 = 1.0   # w0の初期値 (B) \n",
    "init_w1 = 38.0  # w1の初期値 (C)\n",
    "w0s = [init_w0] # w0をリストw0sで保存していく準備、初めの値をセット\n",
    "w1s = [init_w1] # w1をリストw1sで保存していく準備\n",
    "first_mse = mse_linear_reg(xs, ts, w0=init_w0, w1=init_w1)\n",
    "mses = [first_mse] # mseをリストmsesで保存していく準備\n",
    "# 勾配法のループ (D)\n",
    "for i in range(10000):\n",
    "    dw0, dw1 = dw_linear_reg(xs, ts, w0s[-1], w1s[-1]) # (E)\n",
    "    new_w0 = w0s[-1] + alpha * dw0 # w0の更新 (F)\n",
    "    new_w1 = w1s[-1] + alpha * dw1 # w1の更新 (G)\n",
    "    w0s.append(new_w0)  # (H)\n",
    "    w1s.append(new_w1)  # (I)\n",
    "    new_mse = mse_linear_reg(\n",
    "        xs, ts, w0=w0s[-1], w1=w1s[-1]) # MSEの計算 (J) \n",
    "    mses.append(new_mse) # (K)\n",
    "\n",
    "# 結果の表示 (L)\n",
    "print(f'勾配法: w0={w0s[-1]:.3f}, w1={w1s[-1]:.3f}' \\\n",
    "      + f' のとき最小MSE {mses[-1]:.3f}')\n",
    "show_mse()\n",
    "plt.scatter(w0s, w1s, c='r', s=10)\n",
    "plt.show()"
   ]
  },
  {
   "cell_type": "code",
   "execution_count": null,
   "metadata": {},
   "outputs": [
    {
     "ename": "",
     "evalue": "",
     "output_type": "error",
     "traceback": [
      "\u001b[1;31mカーネルを起動できませんでした。 \n",
      "\u001b[1;31m'_xsrf' argument missing from POST. \n",
      "\u001b[1;31m詳細については、Jupyter [ログ] (command:jupyter.viewOutput) を参照してください。"
     ]
    }
   ],
   "source": [
    "# list 3-1-(9) 学習曲線\n",
    "\n",
    "print(f'最小MSE = {mses[-1]:.2f}')\n",
    "plt.plot(mses)\n",
    "plt.ylim(88, 90)\n",
    "plt.xlim(-100, 10000)\n",
    "plt.xlabel('steps')\n",
    "plt.ylabel('MSE')\n",
    "plt.grid(axis='both')\n",
    "plt.show()"
   ]
  },
  {
   "cell_type": "code",
   "execution_count": null,
   "metadata": {},
   "outputs": [
    {
     "ename": "",
     "evalue": "",
     "output_type": "error",
     "traceback": [
      "\u001b[1;31mカーネルを起動できませんでした。 \n",
      "\u001b[1;31m'_xsrf' argument missing from POST. \n",
      "\u001b[1;31m詳細については、Jupyter [ログ] (command:jupyter.viewOutput) を参照してください。"
     ]
    }
   ],
   "source": [
    "# list 3-1-(10) 勾配法による線形回帰モデルのフィッティング\n",
    "\n",
    "print(f'勾配法: w0={w0s[-1]:.3f}, w1={w1s[-1]:.3f}' \\\n",
    "      + f' のとき最小MSE {mses[-1]:.3f}')\n",
    "xs_pred = np.linspace(x_range[0], x_range[1], 50)\n",
    "ys_pred = linear_reg(xs_pred, w0=w0s[-1], w1=w1s[-1])\n",
    "plt.scatter(xs, ts, label='data')\n",
    "plt.plot(xs_pred, ys_pred, 'green', label='gradient descent')\n",
    "plt_setting()\n",
    "plt.show()"
   ]
  },
  {
   "cell_type": "code",
   "execution_count": null,
   "metadata": {},
   "outputs": [
    {
     "ename": "",
     "evalue": "",
     "output_type": "error",
     "traceback": [
      "\u001b[1;31mカーネルを起動できませんでした。 \n",
      "\u001b[1;31m'_xsrf' argument missing from POST. \n",
      "\u001b[1;31m詳細については、Jupyter [ログ] (command:jupyter.viewOutput) を参照してください。"
     ]
    }
   ],
   "source": [
    "# list 3-1-(11) ムーア・ペンローズの疑似逆行列\n",
    "\n",
    "X = np.c_[xs, np.ones(len(xs))]                      # Xを作成 (A)\n",
    "w = np.linalg.inv(X.T @ X) @ X.T @ ts.reshape(-1, 1) # 公式でwを求める (B)\n",
    "w = w.reshape(-1)                                    # 1次元に戻す (C) "
   ]
  },
  {
   "cell_type": "code",
   "execution_count": null,
   "metadata": {},
   "outputs": [
    {
     "ename": "",
     "evalue": "",
     "output_type": "error",
     "traceback": [
      "\u001b[1;31mカーネルを起動できませんでした。 \n",
      "\u001b[1;31m'_xsrf' argument missing from POST. \n",
      "\u001b[1;31m詳細については、Jupyter [ログ] (command:jupyter.viewOutput) を参照してください。"
     ]
    }
   ],
   "source": [
    "# list 3-1-(12) MSEの計算\n",
    "\n",
    "mse = mse_linear_reg(xs, ts, w0=w[0], w1=w[1])\n",
    "print(f'解析解: w0={w[0]:.3f}, w1={w[1]:.3f}' +\n",
    "      f' のとき最小MSE {mse:.3f}')"
   ]
  }
 ],
 "metadata": {
  "interpreter": {
   "hash": "c99914a3b0b2ecbf165f942aabc0862b8d68192235f84c1ada21fe3daa8b2a5b"
  },
  "kernelspec": {
   "display_name": "Python 3 (ipykernel)",
   "language": "python",
   "name": "python3"
  },
  "language_info": {
   "name": "python",
   "version": "3.10.6"
  },
  "orig_nbformat": 2
 },
 "nbformat": 4,
 "nbformat_minor": 2
}
